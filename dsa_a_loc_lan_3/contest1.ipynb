{
 "cells": [
  {
   "cell_type": "code",
   "execution_count": null,
   "id": "91803e0124025463",
   "metadata": {
    "ExecuteTime": {
     "end_time": "2025-06-10T16:17:24.325829Z",
     "start_time": "2025-06-10T16:17:24.324011Z"
    }
   },
   "outputs": [],
   "source": [
    "import sys\n",
    "\n",
    "def setup_env():\n",
    "    sys.stdin = open('input.txt', 'r')"
   ]
  },
  {
   "cell_type": "code",
   "execution_count": null,
   "id": "initial_id",
   "metadata": {},
   "outputs": [],
   "source": [
    "# Bài 2. Tính toán giá trị của biểu thức 2\n",
    "\n",
    "a, b, c = map(int, input().split())\n",
    "print(a*(b+c)+b*(a+c))\n"
   ]
  },
  {
   "cell_type": "code",
   "execution_count": null,
   "id": "d5c7f63cb017a328",
   "metadata": {
    "ExecuteTime": {
     "end_time": "2025-06-10T16:17:29.141689Z",
     "start_time": "2025-06-10T16:17:26.489668Z"
    }
   },
   "outputs": [],
   "source": [
    "# Bài 3. Đổi nhiệt độ\n",
    "setup_env()\n",
    "\n",
    "c = int(input())\n",
    "res = c*9/5+32\n",
    "print(round(res, 3))"
   ]
  },
  {
   "cell_type": "code",
   "execution_count": 1,
   "id": "a58e3495",
   "metadata": {},
   "outputs": [
    {
     "ename": "ValueError",
     "evalue": "invalid literal for int() with base 10: ''",
     "output_type": "error",
     "traceback": [
      "\u001b[31m---------------------------------------------------------------------------\u001b[39m",
      "\u001b[31mValueError\u001b[39m                                Traceback (most recent call last)",
      "\u001b[36mCell\u001b[39m\u001b[36m \u001b[39m\u001b[32mIn[1]\u001b[39m\u001b[32m, line 23\u001b[39m\n\u001b[32m     21\u001b[39m \u001b[38;5;66;03m# test = int(input())\u001b[39;00m\n\u001b[32m     22\u001b[39m \u001b[38;5;28;01mfor\u001b[39;00m _ \u001b[38;5;129;01min\u001b[39;00m \u001b[38;5;28mrange\u001b[39m(test):\n\u001b[32m---> \u001b[39m\u001b[32m23\u001b[39m     \u001b[43msolve\u001b[49m\u001b[43m(\u001b[49m\u001b[43m)\u001b[49m\n\u001b[32m     25\u001b[39m \u001b[38;5;28;01mpass\u001b[39;00m\n",
      "\u001b[36mCell\u001b[39m\u001b[36m \u001b[39m\u001b[32mIn[1]\u001b[39m\u001b[32m, line 8\u001b[39m, in \u001b[36msolve\u001b[39m\u001b[34m()\u001b[39m\n\u001b[32m      7\u001b[39m \u001b[38;5;28;01mdef\u001b[39;00m\u001b[38;5;250m \u001b[39m\u001b[34msolve\u001b[39m():\n\u001b[32m----> \u001b[39m\u001b[32m8\u001b[39m     n = \u001b[38;5;28;43mint\u001b[39;49m\u001b[43m(\u001b[49m\u001b[38;5;28;43minput\u001b[39;49m\u001b[43m(\u001b[49m\u001b[43m)\u001b[49m\u001b[43m)\u001b[49m\n\u001b[32m      9\u001b[39m     arr = \u001b[38;5;28mlist\u001b[39m(\u001b[38;5;28mmap\u001b[39m(\u001b[38;5;28mint\u001b[39m, \u001b[38;5;28minput\u001b[39m().split()))\n\u001b[32m     10\u001b[39m     \u001b[38;5;28mprint\u001b[39m(arr)\n",
      "\u001b[31mValueError\u001b[39m: invalid literal for int() with base 10: ''"
     ]
    }
   ],
   "source": [
    "# bai 6\n",
    "import sys\n",
    "from os import path\n",
    "from math import *\n",
    "\n",
    "\n",
    "def solve():\n",
    "    n = int(input())\n",
    "    arr = list(map(int, input().split()))\n",
    "    print(arr)\n",
    "\n",
    "    pass\n",
    "\n",
    "\n",
    "if __name__ == \"__main__\":\n",
    "    if path.exists(\"input.txt\"):\n",
    "        sys.stdin = open(\"input.txt\", \"r\")\n",
    "        sys.stdout = open(\"output.txt\", \"w\")\n",
    "\n",
    "    test = 1\n",
    "    # test = int(input())\n",
    "    for _ in range(test):\n",
    "        solve()\n",
    "\n",
    "    pass"
   ]
  }
 ],
 "metadata": {
  "kernelspec": {
   "display_name": "3.11.1",
   "language": "python",
   "name": "python3"
  },
  "language_info": {
   "codemirror_mode": {
    "name": "ipython",
    "version": 3
   },
   "file_extension": ".py",
   "mimetype": "text/x-python",
   "name": "python",
   "nbconvert_exporter": "python",
   "pygments_lexer": "ipython3",
   "version": "3.11.1"
  }
 },
 "nbformat": 4,
 "nbformat_minor": 5
}
